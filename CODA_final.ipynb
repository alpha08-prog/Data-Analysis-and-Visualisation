{
 "cells": [
  {
   "cell_type": "markdown",
   "id": "d3f60867",
   "metadata": {},
   "source": [
    "This Jupyter Notebook provides a comprehensive analysis of the admission data for various engineering colleges in India, including IITs, NITs, IIITs, and GFTIs. The data spans multiple rounds of admissions, capturing opening and closing ranks for different categories and seat types. The goal is to understand trends, preferences, and patterns in the admission process.\n"
   ]
  },
  {
   "cell_type": "code",
   "execution_count": null,
   "id": "b33a5deb-27af-41dd-b08d-8782cb42759a",
   "metadata": {
    "slideshow": {
     "slide_type": ""
    },
    "tags": []
   },
   "outputs": [],
   "source": [
    "import pandas as pd\n",
    "import numpy as np\n",
    "import matplotlib.pyplot as plt\n",
    "import seaborn as sns\n"
   ]
  },
  {
   "cell_type": "code",
   "execution_count": null,
   "id": "9437b77b-74b5-439d-ad95-bf5be8cb8e77",
   "metadata": {
    "slideshow": {
     "slide_type": ""
    },
    "tags": []
   },
   "outputs": [],
   "source": [
    "import warnings\n",
    "\n",
    "# Ignore all warnings\n",
    "warnings.filterwarnings(\"ignore\")"
   ]
  },
  {
   "cell_type": "markdown",
   "id": "ee1eb3ba",
   "metadata": {},
   "source": [
    "\"We focused on rounds 3, 4, and 5, as these final rounds provide more detailed information about which students are likely to secure a college seat based on their respective ranks.\""
   ]
  },
  {
   "cell_type": "code",
   "execution_count": null,
   "id": "633e6a03-373b-425a-b5e7-04fb54762816",
   "metadata": {
    "slideshow": {
     "slide_type": "slide"
    },
    "tags": []
   },
   "outputs": [],
   "source": [
    "round_5 = pd.read_csv(\"2024_Round_5.csv\")\n",
    "round_4 = pd.read_csv(\"2024_Round_4.csv\")\n",
    "round_3 = pd.read_csv(\"2024_Round_3.csv\")\n",
    "    "
   ]
  },
  {
   "cell_type": "code",
   "execution_count": null,
   "id": "75d85c5f-7c5f-4a93-85a8-ef9123653b4f",
   "metadata": {},
   "outputs": [],
   "source": [
    "#Lets check the last round\n",
    "round_5.head()"
   ]
  },
  {
   "cell_type": "code",
   "execution_count": null,
   "id": "c2de922f-760f-47f4-b613-36f03f882533",
   "metadata": {},
   "outputs": [],
   "source": [
    "round_5.info()"
   ]
  },
  {
   "cell_type": "code",
   "execution_count": null,
   "id": "43e62508-4579-4e4d-84ec-45c60d7a0ab1",
   "metadata": {},
   "outputs": [],
   "source": [
    "round_4.info()"
   ]
  },
  {
   "cell_type": "code",
   "execution_count": null,
   "id": "ce1866a3-ae1c-4aa4-b0ad-1aea1cb652b6",
   "metadata": {},
   "outputs": [],
   "source": [
    "round_3.info()"
   ]
  },
  {
   "cell_type": "markdown",
   "id": "750151bd",
   "metadata": {},
   "source": [
    "\"Converting the Opening Rank and Closing Rank data types from object (string) to integer values.\"\n",
    "\n",
    "\n",
    "\n",
    "\n",
    "\n",
    "\n"
   ]
  },
  {
   "cell_type": "code",
   "execution_count": null,
   "id": "e2a3b6cf-5283-471a-bce0-179d2f3f0dbc",
   "metadata": {},
   "outputs": [],
   "source": [
    "# as the ranks are object(string) type we need to change them to int\n",
    "pd.set_option('display.float_format', '{:.2f}'.format)\n",
    "# round_5\n",
    "round_5['Opening Rank'] = round_5['Opening Rank'].str.replace('P', '', regex=False).astype(float)\n",
    "round_5['Closing Rank'] = round_5['Closing Rank'].str.replace('P', '', regex=False).astype(float)\n",
    "round_5[['Opening Rank', 'Closing Rank']] = round_5[['Opening Rank', 'Closing Rank']].astype(int)\n",
    "#round_4\n",
    "round_4['Opening Rank'] = round_4['Opening Rank'].str.replace('P', '', regex=False).astype(float)\n",
    "round_4['Closing Rank'] = round_4['Closing Rank'].str.replace('P', '', regex=False).astype(float)\n",
    "round_4[['Opening Rank', 'Closing Rank']] = round_4[['Opening Rank', 'Closing Rank']].astype(int)\n",
    "#round_3\n",
    "round_3['Opening Rank'] = round_3['Opening Rank'].str.replace('P', '', regex=False).astype(float)\n",
    "round_3['Closing Rank'] = round_3['Closing Rank'].str.replace('P', '', regex=False).astype(float)\n",
    "round_3[['Opening Rank', 'Closing Rank']] = round_3[['Opening Rank', 'Closing Rank']].astype(int)"
   ]
  },
  {
   "cell_type": "markdown",
   "id": "d4938fbb",
   "metadata": {},
   "source": [
    "\"Organizing the Opening and Closing Ranks for rounds 5, 4, and 3 into multi-level columns.\"\n",
    "\n",
    "\n",
    "\n",
    "\n",
    "\n",
    "\n"
   ]
  },
  {
   "cell_type": "code",
   "execution_count": null,
   "id": "768c2922-4353-488e-8103-4ab1ea4aff37",
   "metadata": {},
   "outputs": [],
   "source": [
    "multi_columns = round_5[['Opening Rank', 'Closing Rank']]\n",
    "\n",
    "# Step 2: Create the MultiIndex for these two columns\n",
    "multi_columns.columns = pd.MultiIndex.from_tuples([('ROUND-5', 'Opening Rank'),('ROUND-5', 'Closing Rank')])\n",
    "\n",
    "# Step 3: Drop the original columns and assign the multi-indexed ones\n",
    "round_5.drop(['Opening Rank', 'Closing Rank'], axis=1, inplace=True)\n",
    "round_5 = pd.concat([round_5, multi_columns], axis=1)\n"
   ]
  },
  {
   "cell_type": "code",
   "execution_count": null,
   "id": "865fe0b2-51c8-452c-9e04-83e05662127d",
   "metadata": {},
   "outputs": [],
   "source": [
    "multi_columns = round_3[['Opening Rank', 'Closing Rank']]\n",
    "\n",
    "# Step 2: Create the MultiIndex for these two columns\n",
    "multi_columns.columns = pd.MultiIndex.from_tuples([('ROUND-3', 'Opening Rank'),('ROUND-3', 'Closing Rank')])\n",
    "\n",
    "# Step 3: Drop the original columns and assign the multi-indexed ones\n",
    "round_3.drop(['Opening Rank', 'Closing Rank'], axis=1, inplace=True)\n",
    "round_3 = pd.concat([round_3, multi_columns], axis=1)"
   ]
  },
  {
   "cell_type": "code",
   "execution_count": null,
   "id": "740fcbcb-5e3f-45bd-a123-fe0161d6cb53",
   "metadata": {},
   "outputs": [],
   "source": [
    "multi_columns = round_4[['Opening Rank', 'Closing Rank']]\n",
    "\n",
    "# Step 2: Create the MultiIndex for these two columns\n",
    "multi_columns.columns = pd.MultiIndex.from_tuples([('ROUND-4', 'Opening Rank'),('ROUND-4', 'Closing Rank')])\n",
    "\n",
    "# Step 3: Drop the original columns and assign the multi-indexed ones\n",
    "round_4.drop(['Opening Rank', 'Closing Rank'], axis=1, inplace=True)\n",
    "round_4 = pd.concat([round_4, multi_columns], axis=1)"
   ]
  },
  {
   "cell_type": "markdown",
   "id": "d0ed3dcd",
   "metadata": {},
   "source": [
    "Creating a new DataFrame for cleaned data "
   ]
  },
  {
   "cell_type": "code",
   "execution_count": null,
   "id": "06eb55cb-383e-42db-99af-b88d6369884c",
   "metadata": {},
   "outputs": [],
   "source": [
    "df = pd.DataFrame(columns = ['Institute','Course','Quota','Gender','Seat Type'])"
   ]
  },
  {
   "cell_type": "code",
   "execution_count": null,
   "id": "55ce727f-8449-4a47-ab2c-5b9501db2068",
   "metadata": {},
   "outputs": [],
   "source": [
    "df['Institute'] = round_5['Institute']\n",
    "df['Course'] = round_5['Academic Program Name']\n",
    "df['Quota'] = round_5['Quota']\n",
    "df['Gender'] = round_5['Gender']\n",
    "df['Seat Type'] = round_5['Seat Type']"
   ]
  },
  {
   "cell_type": "code",
   "execution_count": null,
   "id": "f607358a-823d-49cb-9dc4-3615d62ce719",
   "metadata": {},
   "outputs": [],
   "source": [
    "df.head()"
   ]
  },
  {
   "cell_type": "code",
   "execution_count": null,
   "id": "c50362b2-1f67-4981-af78-c1004eda8834",
   "metadata": {},
   "outputs": [],
   "source": [
    "round_5.columns"
   ]
  },
  {
   "cell_type": "code",
   "execution_count": null,
   "id": "7e9b307d-6e5e-47ad-857d-eafd0a050f69",
   "metadata": {},
   "outputs": [],
   "source": [
    "round_4.columns"
   ]
  },
  {
   "cell_type": "code",
   "execution_count": null,
   "id": "9ae92d03-25d3-4813-9902-ca6412cd1f4d",
   "metadata": {},
   "outputs": [],
   "source": [
    "round_3.columns"
   ]
  },
  {
   "cell_type": "code",
   "execution_count": null,
   "id": "8b5ed9cd-6376-4f54-a3de-37101b81b7cf",
   "metadata": {},
   "outputs": [],
   "source": [
    "df[('Round-5','Opening Rank')] = round_5[('ROUND-5', 'Opening Rank')]\n",
    "df[('Round-5','Closing Rank')] = round_5[('ROUND-5', 'Closing Rank')]\n",
    "df[('Round-4','Opening Rank')] = round_4[('ROUND-4', 'Opening Rank')]\n",
    "df[('Round-4','Closing Rank')] = round_4[('ROUND-4', 'Closing Rank')]\n",
    "df[('Round-3','Opening Rank')] = round_3[('ROUND-3', 'Opening Rank')]\n",
    "df[('Round-3','Closing Rank')] = round_3[('ROUND-3', 'Closing Rank')]"
   ]
  },
  {
   "cell_type": "code",
   "execution_count": null,
   "id": "9ebfdd87-255f-499d-940b-11587c2dee3a",
   "metadata": {},
   "outputs": [],
   "source": [
    "df.head()"
   ]
  },
  {
   "cell_type": "code",
   "execution_count": null,
   "id": "a4f8c037-2f3a-455d-a7d3-c7e7a3e57633",
   "metadata": {},
   "outputs": [],
   "source": [
    "df.info()"
   ]
  },
  {
   "cell_type": "code",
   "execution_count": null,
   "id": "4d8e5ffe-2f4a-4f1c-8b50-c04132794198",
   "metadata": {},
   "outputs": [],
   "source": [
    "df.isnull()"
   ]
  },
  {
   "cell_type": "code",
   "execution_count": null,
   "id": "aa8f22d3-07cd-4886-9444-79bccb68a8a7",
   "metadata": {},
   "outputs": [],
   "source": [
    "#there are no null values\n",
    "# Find the number of missing values for each column\n",
    "missing_values_per_column = df.isnull().sum()\n",
    "print(missing_values_per_column)\n"
   ]
  },
  {
   "cell_type": "markdown",
   "id": "f267889d",
   "metadata": {},
   "source": [
    "\"We included only gender-neutral data and removed female-only categories, as this provides a clearer picture of the overall competition.\""
   ]
  },
  {
   "cell_type": "code",
   "execution_count": null,
   "id": "7bba83ab-b213-4bd7-ad8f-dbf9cd4aba51",
   "metadata": {},
   "outputs": [],
   "source": [
    "df = df[df['Gender'] == 'Gender-Neutral']"
   ]
  },
  {
   "cell_type": "code",
   "execution_count": null,
   "id": "24838cbd-511f-4b61-8dd0-c4bb8f2f023e",
   "metadata": {},
   "outputs": [],
   "source": [
    "df"
   ]
  },
  {
   "cell_type": "code",
   "execution_count": null,
   "id": "16861134-b281-4bb4-bcf5-f2ebe9ea37d9",
   "metadata": {},
   "outputs": [],
   "source": [
    "df.info()\n"
   ]
  },
  {
   "cell_type": "code",
   "execution_count": null,
   "id": "7669303c-f42d-40a5-8151-718be89fe1e0",
   "metadata": {},
   "outputs": [],
   "source": [
    "# making course name short so no confusion occurs\n",
    "course = df['Course']"
   ]
  },
  {
   "cell_type": "code",
   "execution_count": null,
   "id": "3bffb0d0-76bd-4356-81f1-bb398ca0b2c2",
   "metadata": {},
   "outputs": [],
   "source": [
    "def clean_program_name(name):\n",
    "    features = []\n",
    "    \n",
    "    if '4 Years' in name:\n",
    "        features.append('4 Years')\n",
    "    if '5 Years' in name:\n",
    "        features.append('5 Years')\n",
    "    if 'Dual Degree' in name:\n",
    "        features.append('Dual Degree')\n",
    "\n",
    "    base_name = name.split(' (')[0] \n",
    "    if features:\n",
    "        return f\"{base_name} ({', '.join(features)})\"  \n",
    "    else:\n",
    "        return base_name  \n",
    "    "
   ]
  },
  {
   "cell_type": "code",
   "execution_count": null,
   "id": "ba25f09d-7970-4034-bb83-5764b69eb949",
   "metadata": {},
   "outputs": [],
   "source": [
    "course = course.apply(clean_program_name)"
   ]
  },
  {
   "cell_type": "code",
   "execution_count": null,
   "id": "a7f7afa1-5901-40f8-813e-6396d89ad363",
   "metadata": {},
   "outputs": [],
   "source": [
    "df['Course'] = course"
   ]
  },
  {
   "cell_type": "markdown",
   "id": "3d5d00cb",
   "metadata": {},
   "source": [
    "## From here we seperated the colleges into IIT's, IIIT's, NIT's and GFTI's"
   ]
  },
  {
   "cell_type": "code",
   "execution_count": null,
   "id": "408f7d71-b795-45c2-8ea9-0f0c424e0864",
   "metadata": {},
   "outputs": [],
   "source": [
    "IIT_df = df[:1702]\n",
    "IIT_df"
   ]
  },
  {
   "cell_type": "code",
   "execution_count": null,
   "id": "990e9a86-1d0d-44b6-9c1f-8607c8765e44",
   "metadata": {},
   "outputs": [],
   "source": [
    "NIT_df = df[1702:5327]\n",
    "NIT_df"
   ]
  },
  {
   "cell_type": "code",
   "execution_count": null,
   "id": "341d836e-d361-4c47-a0d8-14a0d465039f",
   "metadata": {},
   "outputs": [],
   "source": [
    "IIIT_df = df[5327:5977]\n",
    "IIIT_df"
   ]
  },
  {
   "cell_type": "code",
   "execution_count": null,
   "id": "44b592c2-372a-4bf5-b9e5-f0a04e3a45eb",
   "metadata": {},
   "outputs": [],
   "source": [
    "GFTI_df = df[5977:]\n",
    "GFTI_df"
   ]
  },
  {
   "cell_type": "markdown",
   "id": "09ad65a1",
   "metadata": {},
   "source": [
    "## Till here we completed our data preprocessing by showing only necessary details for better understanding."
   ]
  },
  {
   "cell_type": "markdown",
   "id": "ae0285c3-f745-47fc-b616-c617d16965d0",
   "metadata": {},
   "source": [
    "## IIT's\n"
   ]
  },
  {
   "cell_type": "code",
   "execution_count": null,
   "id": "c6f6f551-a268-4fb9-8946-9494a8029c95",
   "metadata": {},
   "outputs": [],
   "source": [
    "#we cannot compare iit and other colleges"
   ]
  },
  {
   "cell_type": "code",
   "execution_count": null,
   "id": "283a6054-f246-4160-9acc-171b72134d21",
   "metadata": {},
   "outputs": [],
   "source": [
    "IIT_df.head()"
   ]
  },
  {
   "cell_type": "code",
   "execution_count": null,
   "id": "aeb65923-7876-4761-8a03-c40547a1fed4",
   "metadata": {},
   "outputs": [],
   "source": [
    "#as there are no CRL ranks we are seperating 'Seat type' and removing PWD for easy calculations\n"
   ]
  },
  {
   "cell_type": "code",
   "execution_count": null,
   "id": "32ee8894-701b-4ae2-96e8-0df5a1d0b6c1",
   "metadata": {},
   "outputs": [],
   "source": [
    "IIT_df['Seat Type'].value_counts()"
   ]
  },
  {
   "cell_type": "code",
   "execution_count": null,
   "id": "ec0430b7-6ce9-42bd-93c8-d3da0a2b20c3",
   "metadata": {},
   "outputs": [],
   "source": [
    "IIT_df = IIT_df[IIT_df['Seat Type'].isin(['OPEN', 'EWS', 'OBC-NCL', 'ST', 'SC'])]"
   ]
  },
  {
   "cell_type": "code",
   "execution_count": null,
   "id": "ba9f8e3b-96ca-4adb-8d28-9c84ca08de5e",
   "metadata": {},
   "outputs": [],
   "source": [
    "IIT_open_df = IIT_df[IIT_df['Seat Type'] == 'OPEN']\n",
    "IIT_ews_df = IIT_df[IIT_df['Seat Type'] == 'EWS']\n",
    "IIT_obc_df = IIT_df[IIT_df['Seat Type'] == 'OBC-NCL']\n",
    "IIT_sc_df = IIT_df[IIT_df['Seat Type'] == 'SC']\n",
    "IIT_st_df = IIT_df[IIT_df['Seat Type'] == 'ST']\n"
   ]
  },
  {
   "cell_type": "code",
   "execution_count": null,
   "id": "f03f66dc-15f9-4272-b9e5-a97545ae0840",
   "metadata": {},
   "outputs": [],
   "source": [
    "IIT_open_df['Course'].value_counts()"
   ]
  },
  {
   "cell_type": "code",
   "execution_count": null,
   "id": "d80d27a3-9978-42f7-9ef2-9563634b02b5",
   "metadata": {},
   "outputs": [],
   "source": [
    "IIT_open_df"
   ]
  },
  {
   "cell_type": "markdown",
   "id": "32dc5307",
   "metadata": {},
   "source": [
    "## Here we calculated the average of the closing ranks of the last 3 rounds so to get an idea on what range of ranks we can get a specific branch of the college."
   ]
  },
  {
   "cell_type": "code",
   "execution_count": null,
   "id": "79334ba6-1381-453a-8d39-3e2c9b17ea2e",
   "metadata": {},
   "outputs": [],
   "source": [
    "IIT_open_df['Average'] = (IIT_open_df[('Round-5', 'Closing Rank')] + \n",
    "                      IIT_open_df[('Round-4', 'Closing Rank')] + \n",
    "                      IIT_open_df[('Round-3', 'Closing Rank')]) / 3"
   ]
  },
  {
   "cell_type": "markdown",
   "id": "dbb1195f",
   "metadata": {},
   "source": [
    "Also there are Round-5 closing ranks which are less than round-4 and round -3 so we took avg "
   ]
  },
  {
   "cell_type": "code",
   "execution_count": null,
   "id": "ddc34a26-0c6a-4b55-98fe-06f96e509e06",
   "metadata": {},
   "outputs": [],
   "source": [
    "IIT_open_df"
   ]
  },
  {
   "cell_type": "code",
   "execution_count": null,
   "id": "19576224-6921-4fe6-ba0c-c7da194fff9f",
   "metadata": {},
   "outputs": [],
   "source": [
    "top_10_courses = IIT_open_df.sort_values('Average').head(10)\n",
    "top_10_courses"
   ]
  },
  {
   "cell_type": "markdown",
   "id": "48848025",
   "metadata": {},
   "source": [
    "## So on the basis of average we sorted the top 10 courses students prefer to take."
   ]
  },
  {
   "cell_type": "code",
   "execution_count": null,
   "id": "6b1cefe1-eb33-4ff0-bd9d-26941f8dc17d",
   "metadata": {},
   "outputs": [],
   "source": [
    "top_10_courses = IIT_open_df.sort_values('Average')['Course'].head(10)\n",
    "\n",
    "# Display the top 10 courses\n",
    "print(top_10_courses)"
   ]
  },
  {
   "cell_type": "code",
   "execution_count": null,
   "id": "aa116015-e300-4889-ba9b-7bed2161988b",
   "metadata": {},
   "outputs": [],
   "source": [
    "#It lookes and mathematics and comuting and cse are most preferred branches\n"
   ]
  },
  {
   "cell_type": "code",
   "execution_count": null,
   "id": "d16e3085",
   "metadata": {},
   "outputs": [],
   "source": [
    "top_10_courses_df = IIT_open_df[IIT_df['Course'].isin(top_10_courses)]\n"
   ]
  },
  {
   "cell_type": "code",
   "execution_count": null,
   "id": "4ba7886c",
   "metadata": {},
   "outputs": [],
   "source": [
    "print(top_10_courses_df.columns)"
   ]
  },
  {
   "cell_type": "code",
   "execution_count": null,
   "id": "8af9c265-d98f-4a25-8fa8-74457024235a",
   "metadata": {},
   "outputs": [],
   "source": [
    "df_melted_top10 = top_10_courses_df.melt(id_vars=['Course'], \n",
    "                                         value_vars=[('Round-5', 'Closing Rank'), \n",
    "                                                     ('Round-4', 'Closing Rank'), \n",
    "                                                     ('Round-3', 'Closing Rank')], var_name='Round', value_name='Closing Rank')\n",
    "\n",
    "plt.figure(figsize=(12, 6))\n",
    "sns.barplot(data=df_melted_top10, x='Course', y='Closing Rank', hue='Round')\n",
    "plt.xticks(rotation=45, ha='right')\n",
    "plt.xlabel('Course')\n",
    "plt.ylabel('Closing Rank')\n",
    "plt.title('Comparison of Closing Ranks across Rounds for Top 10 Courses')\n",
    "plt.legend(title='Round')\n",
    "plt.tight_layout()\n",
    "plt.show()\n"
   ]
  },
  {
   "cell_type": "markdown",
   "id": "b4d37171",
   "metadata": {},
   "source": [
    "## So Here is the box plot showing the top 10 branches closing ranks V/s their cutoff variations across the 3 rounds."
   ]
  },
  {
   "cell_type": "markdown",
   "id": "205f9e56",
   "metadata": {},
   "source": [
    "# Crazy How the round-5 cutoff is less than round-4 and 3\n",
    "\n",
    "## Possible Reasons\n",
    "\n",
    "# Additional Seats Released:\n",
    "Sometimes, institutions may release additional seats in later rounds due to various reasons such as higher-than-expected demand in earlier rounds or changes in seat availability.\n",
    "\n",
    "# Dropouts:\n",
    "If students who accepted seats in earlier rounds do not join, their seats may be reallocated in subsequent rounds, potentially leading to a lower closing rank.\n",
    "\n",
    "# Reallocation:\n",
    "If students withdraw from the program or accept other offers, institutions may readjust their intake, which could affect closing ranks.\n",
    "\n",
    "# Changes in Eligibility:\n",
    "There may be changes in eligibility criteria or reservation policies that can affect the distribution of seats in later rounds.\n"
   ]
  },
  {
   "cell_type": "markdown",
   "id": "4ac1964f",
   "metadata": {},
   "source": [
    "## Cse, Mathematics and Computing and AI are the most preferred branches\n"
   ]
  },
  {
   "cell_type": "code",
   "execution_count": null,
   "id": "e1ed9040-f59a-4d45-81f9-45dfaeb9c895",
   "metadata": {},
   "outputs": [],
   "source": [
    "program_counts = IIT_open_df.groupby('Institute').size().reset_index(name='Program Count')\n",
    "\n",
    "plt.figure(figsize=(12, 6))\n",
    "plt.barh(program_counts['Institute'], program_counts['Program Count'], color='lightgreen')\n",
    "plt.xlabel('Number of Programs Offered')\n",
    "plt.title('Number of Programs Offered by Each Institute')\n",
    "plt.gca().invert_yaxis() \n",
    "plt.show()"
   ]
  },
  {
   "cell_type": "code",
   "execution_count": null,
   "id": "a12169ea-bece-4b03-86f3-fcb15a962166",
   "metadata": {},
   "outputs": [],
   "source": [
    "IIT_df.columns"
   ]
  },
  {
   "cell_type": "code",
   "execution_count": null,
   "id": "7c233b9d-070f-4bb8-854a-b0e5ada139bc",
   "metadata": {},
   "outputs": [],
   "source": [
    "IIT_open_closing_df = IIT_open_df.sort_values(('Round-5', 'Closing Rank'),ascending=False)\n",
    "plot_IIT_df =IIT_open_closing_df.drop_duplicates(subset='Institute')\n",
    "plot_IIT_df"
   ]
  },
  {
   "cell_type": "code",
   "execution_count": null,
   "id": "2bb769eb-8cc5-4351-966f-347df4cb727d",
   "metadata": {},
   "outputs": [],
   "source": [
    "plt.figure(figsize=(12, 6))\n",
    "plt.barh(plot_IIT_df['Institute'], plot_IIT_df[('Round-5', 'Closing Rank')], color='skyblue')\n",
    "plt.title('Closing Ranks by Institute')\n",
    "plt.xlabel('Closing Rank')\n",
    "plt.grid(axis='x')\n",
    "plt.show()"
   ]
  },
  {
   "cell_type": "markdown",
   "id": "d08a246e",
   "metadata": {},
   "source": [
    "## As Round 5 is the last round to get IIT's we analysed how closing ranks differ for each institute to get last seat into it."
   ]
  },
  {
   "cell_type": "code",
   "execution_count": null,
   "id": "981ce791-b5ca-49fb-9781-45a0e7601b3f",
   "metadata": {},
   "outputs": [],
   "source": [
    "plt.figure(figsize=(12, 6))\n",
    "plt.barh(plot_IIT_df['Institute']+ ' - ' + plot_IIT_df['Course'], \n",
    "         plot_IIT_df[('Round-5', 'Closing Rank')], color='lightblue')\n",
    "plt.xlabel('Closing Rank')\n",
    "plt.title('Least Preferred Branches in Each College')\n",
    "plt.gca().invert_yaxis()  \n",
    "plt.show()"
   ]
  },
  {
   "cell_type": "markdown",
   "id": "5c710f65",
   "metadata": {},
   "source": [
    "Here we tell that which is the leaast preferred brannch in each institute.\n",
    "\n",
    "Observation:-\n",
    "    \n",
    "    1) Students prefer college over branches in some coleges.\n",
    "    2) Architecture and material/metallurgical were the least preferred branch \n",
    "    \n",
    "    "
   ]
  },
  {
   "cell_type": "code",
   "execution_count": null,
   "id": "53c267fc-d566-4599-b191-8ff4c977c174",
   "metadata": {},
   "outputs": [],
   "source": [
    "#now lets get most preferred branch"
   ]
  },
  {
   "cell_type": "code",
   "execution_count": null,
   "id": "dd6f0fea-078a-4dca-89ef-b72dd710a419",
   "metadata": {
    "scrolled": true
   },
   "outputs": [],
   "source": [
    "IIT_open_closing_df = IIT_open_df.sort_values(('Round-5', 'Closing Rank'),ascending=True)\n",
    "plot_IIT_df =IIT_open_closing_df.drop_duplicates(subset='Institute')\n",
    "plot_IIT_df"
   ]
  },
  {
   "cell_type": "code",
   "execution_count": null,
   "id": "cb487ffb-0239-43b7-b970-50d1e1fa9394",
   "metadata": {},
   "outputs": [],
   "source": [
    "##All are computer science"
   ]
  },
  {
   "cell_type": "code",
   "execution_count": null,
   "id": "36342896-4536-4f62-a4ff-280f7f41ab56",
   "metadata": {
    "scrolled": true
   },
   "outputs": [],
   "source": [
    "IIT_open_closing_df = IIT_open_df.sort_values(('Round-5', 'Closing Rank'),ascending=True)\n",
    "plot_IIT_df =IIT_open_closing_df.drop_duplicates(subset='Course').head(10)\n",
    "plot_IIT_df"
   ]
  },
  {
   "cell_type": "code",
   "execution_count": null,
   "id": "1c5eeb36-82aa-4ca5-bb95-cd5af22f3e29",
   "metadata": {},
   "outputs": [],
   "source": [
    "plt.figure(figsize=(12, 6))\n",
    "plt.barh(plot_IIT_df['Institute']+ ' - ' + plot_IIT_df['Course'], \n",
    "         plot_IIT_df[('Round-5', 'Closing Rank')], color='lightblue')\n",
    "plt.xlabel('Closing Rank')\n",
    "plt.title('Top 10 Most Preferred Branches in Each College')\n",
    "plt.gca().invert_yaxis()  \n",
    "plt.show()"
   ]
  },
  {
   "cell_type": "markdown",
   "id": "eb15e6ca",
   "metadata": {},
   "source": [
    "Here is the graph showing the closing ranks of the top 10 branches mopst preferred by the students.\n",
    "\n",
    "We observed that:-\n",
    "    \n",
    "    1)IIT-B CSE is highly competitive and is closed  first followed by IIT-D CSE.\n",
    "    2) All the closing ranks are under 1000 which tells that for the best college and branch you need a rank under 1000.\n",
    "    3) Software related branches tops telling students are more inclined towards software development and it also tells that how industry is growing up."
   ]
  },
  {
   "cell_type": "markdown",
   "id": "9a3e8ded-9462-4186-8984-e3cbb8ee13fa",
   "metadata": {},
   "source": [
    "## NIT's vs IIIT vs some good GFTI's"
   ]
  },
  {
   "cell_type": "code",
   "execution_count": null,
   "id": "f2d4a102-424e-4b68-8770-233140b8f3b3",
   "metadata": {},
   "outputs": [],
   "source": [
    "#Why IIIT and not IIIT's you will see down\n"
   ]
  },
  {
   "cell_type": "code",
   "execution_count": null,
   "id": "243705aa-ad5f-481b-953d-19e7a8e8932f",
   "metadata": {},
   "outputs": [],
   "source": [
    "# only good gfti which can compete with nit's and iiit's"
   ]
  },
  {
   "cell_type": "code",
   "execution_count": null,
   "id": "35d40c16-447f-4c01-a503-f37fce33f07c",
   "metadata": {},
   "outputs": [],
   "source": [
    "NIT_df.head()"
   ]
  },
  {
   "cell_type": "code",
   "execution_count": null,
   "id": "5c221ca0-6117-4c1a-b170-79adf27c8633",
   "metadata": {},
   "outputs": [],
   "source": [
    "#removing HS for more competition"
   ]
  },
  {
   "cell_type": "code",
   "execution_count": null,
   "id": "2309951c-df87-4de2-85ef-a4145c9dcf94",
   "metadata": {},
   "outputs": [],
   "source": [
    "NIT_df = NIT_df[NIT_df['Quota'] == 'OS']"
   ]
  },
  {
   "cell_type": "code",
   "execution_count": null,
   "id": "832b195d-087e-4ea5-8f2e-c048a58eb7bb",
   "metadata": {},
   "outputs": [],
   "source": [
    "NIT_df = NIT_df[NIT_df['Seat Type'].isin(['OPEN', 'EWS', 'OBC-NCL', 'ST', 'SC'])]"
   ]
  },
  {
   "cell_type": "code",
   "execution_count": null,
   "id": "4a9f3337-f4e2-49af-93c0-1a6903ac3ba4",
   "metadata": {},
   "outputs": [],
   "source": [
    "NIT_df"
   ]
  },
  {
   "cell_type": "code",
   "execution_count": null,
   "id": "c90f418e-4645-4b5b-8abc-6669d379eb51",
   "metadata": {},
   "outputs": [],
   "source": [
    "NIT_open_df = NIT_df[NIT_df['Seat Type'] == 'OPEN']"
   ]
  },
  {
   "cell_type": "code",
   "execution_count": null,
   "id": "66699ca3-ed8f-4006-b1ca-d7ed965b6e50",
   "metadata": {},
   "outputs": [],
   "source": [
    "NIT_open_df"
   ]
  },
  {
   "cell_type": "code",
   "execution_count": null,
   "id": "95856249-e01b-4339-9de8-4d74becc7a39",
   "metadata": {},
   "outputs": [],
   "source": [
    "#top 10 courses in NITs\n",
    "NIT_open_closing_df = NIT_open_df.sort_values(('Round-5', 'Closing Rank'),ascending=True)\n",
    "plot_NIT_df = NIT_open_closing_df.drop_duplicates(subset='Institute')\n",
    "plot_NIT_df\n",
    "                                              "
   ]
  },
  {
   "cell_type": "markdown",
   "id": "5ed215ae",
   "metadata": {},
   "source": [
    "## From here we got a crazy thing that Architecture round 5 closing rank has a drastic drop from lakhs to a 3 digit number."
   ]
  },
  {
   "cell_type": "code",
   "execution_count": null,
   "id": "1b77d402-1675-4284-8a7d-ddd8491ddce8",
   "metadata": {},
   "outputs": [],
   "source": [
    "# as u can see come architecture courses where round_5 is less than round_4,3\n",
    "plt.figure(figsize=(12, 6))\n",
    "plt.barh(plot_NIT_df['Institute'], plot_NIT_df[('Round-5', 'Closing Rank')], color='skyblue')\n",
    "plt.title('Closing Ranks by Institute')\n",
    "plt.xlabel('Closing Rank')\n",
    "plt.grid(axis='x')\n",
    "plt.show()"
   ]
  },
  {
   "cell_type": "markdown",
   "id": "f3239f6d",
   "metadata": {},
   "source": [
    "The graph tells us that NIT Trichy is the best among all the NIT's out and Mizoram the least.\n",
    "\n",
    "Also geographical wise all the NIT's situated in north east are not so competitive as their closing ranks are much higher thatb the average.\n"
   ]
  },
  {
   "cell_type": "code",
   "execution_count": null,
   "id": "9a9929df-c21b-479a-80b8-99bb11384cce",
   "metadata": {},
   "outputs": [],
   "source": [
    "NIT_open_df"
   ]
  },
  {
   "cell_type": "code",
   "execution_count": null,
   "id": "b7d80951-d209-42a8-b8ed-a728260fd17d",
   "metadata": {},
   "outputs": [],
   "source": [
    "program_counts = NIT_open_df.groupby('Institute').size().reset_index(name='Program Count')\n",
    "\n",
    "plt.figure(figsize=(12, 6))\n",
    "plt.barh(program_counts['Institute'], program_counts['Program Count'], color='blue')\n",
    "plt.xlabel('Number of Programs Offered')\n",
    "plt.title('Number of Programs Offered by Each Institute')\n",
    "plt.gca().invert_yaxis() \n",
    "plt.show()"
   ]
  },
  {
   "cell_type": "markdown",
   "id": "59199514-721d-446b-bc0b-335551a6a860",
   "metadata": {},
   "source": [
    "Many courses are offered by NIT Rourkela and still it is one of least college of closing ranks, this telles rourkela it is one of the best college"
   ]
  },
  {
   "cell_type": "markdown",
   "id": "89012361-b26d-4196-9418-b4dedf99e788",
   "metadata": {},
   "source": [
    "## Lets compare NIT's to IIIT Dharwad\n"
   ]
  },
  {
   "cell_type": "code",
   "execution_count": null,
   "id": "9818704c-81b3-4424-b73b-8d6d4429652b",
   "metadata": {},
   "outputs": [],
   "source": [
    "IIIT_df"
   ]
  },
  {
   "cell_type": "code",
   "execution_count": null,
   "id": "eccbfbec-1c1c-499b-9eac-8f5db6f67865",
   "metadata": {},
   "outputs": [],
   "source": [
    "IIIT_df = IIIT_df[IIIT_df['Seat Type'].isin(['OPEN', 'EWS', 'OBC-NCL', 'ST', 'SC'])]"
   ]
  },
  {
   "cell_type": "code",
   "execution_count": null,
   "id": "dcbce64a-2136-45a4-aeb0-d97372fb1083",
   "metadata": {},
   "outputs": [],
   "source": []
  },
  {
   "cell_type": "code",
   "execution_count": null,
   "id": "8b7eaea0-b5b3-4f39-8e33-2cdcba9e26eb",
   "metadata": {},
   "outputs": [],
   "source": [
    "IIIT_dwd = IIIT_df[IIIT_df['Institute'] == 'Indian Institute of Information Technology(IIIT) Dharwad']"
   ]
  },
  {
   "cell_type": "code",
   "execution_count": null,
   "id": "7e2881d8-babe-4157-ba15-d6afc4391614",
   "metadata": {},
   "outputs": [],
   "source": [
    "IIIT_dwd_open = IIIT_dwd[IIIT_dwd['Seat Type'] == 'OPEN']"
   ]
  },
  {
   "cell_type": "code",
   "execution_count": null,
   "id": "0165cd43-b9c6-4a7e-9f8d-765c4458a8ab",
   "metadata": {},
   "outputs": [],
   "source": [
    "IIIT_dwd_open"
   ]
  },
  {
   "cell_type": "markdown",
   "id": "69a470b1",
   "metadata": {},
   "source": [
    "## The closing rank of the insttitute is around 40K, Let;s now vompare it with the NIT's "
   ]
  },
  {
   "cell_type": "code",
   "execution_count": null,
   "id": "df81fa49-2d80-44ec-a20e-58da56244779",
   "metadata": {},
   "outputs": [],
   "source": [
    "#check this with nit's"
   ]
  },
  {
   "cell_type": "code",
   "execution_count": null,
   "id": "576b92fc-2320-489f-abcc-c2459e5d245d",
   "metadata": {},
   "outputs": [],
   "source": [
    "df.columns"
   ]
  },
  {
   "cell_type": "code",
   "execution_count": null,
   "id": "3793598b-298b-4028-bdbf-8401d7ff5445",
   "metadata": {},
   "outputs": [],
   "source": [
    "NIT_open_df"
   ]
  },
  {
   "cell_type": "code",
   "execution_count": null,
   "id": "18f7323f-66cb-4362-9a8d-409edd0b39d3",
   "metadata": {},
   "outputs": [],
   "source": [
    "NIT_open_df.info()"
   ]
  },
  {
   "cell_type": "code",
   "execution_count": null,
   "id": "bdfddda0-df8e-4db3-9bd9-502fc7c27e58",
   "metadata": {},
   "outputs": [],
   "source": [
    "IIIT_dwd_open.info()"
   ]
  },
  {
   "cell_type": "code",
   "execution_count": null,
   "id": "e68b3624-757b-4afd-864e-06a1ad65b541",
   "metadata": {},
   "outputs": [],
   "source": [
    "# Assuming NIT_open_df and IIIT_dwd_open are your dataframes\n",
    "\n",
    "NIT_greater_dwd = NIT_open_df[NIT_open_df[('Round-5', 'Closing Rank')] < 40000]\n",
    "#Here we're checking NIT's which have closing rank less than 40K to get which NIT's are better than IIIT_dwd."
   ]
  },
  {
   "cell_type": "code",
   "execution_count": null,
   "id": "53da542f-504e-4e72-a7f5-7e8ac0f4162e",
   "metadata": {},
   "outputs": [],
   "source": [
    "NIT_greater_dwd"
   ]
  },
  {
   "cell_type": "code",
   "execution_count": null,
   "id": "e6669fd5-d90c-445a-9d10-3dd19ef0b678",
   "metadata": {},
   "outputs": [],
   "source": [
    "# Extract unique values from the 'Institute' column in NIT_greater_dwd\n",
    "better_colleges = NIT_greater_dwd['Institute'].drop_duplicates().reset_index(drop=True)\n",
    "\n",
    "better_colleges\n"
   ]
  },
  {
   "cell_type": "markdown",
   "id": "8f731976",
   "metadata": {},
   "source": [
    "we considered IIEST shibpur, as a NIT because it closing ranks are near to a NIT level"
   ]
  },
  {
   "cell_type": "markdown",
   "id": "50b8483a",
   "metadata": {},
   "source": [
    "## So here we got an amazing insight that all the NIT's have theor closing ranks under 40K which directly means that if ones rank is around 40K and is here he could definitely get a NIT. "
   ]
  },
  {
   "cell_type": "code",
   "execution_count": null,
   "id": "235c0fcc-2569-4071-9b4a-8bd6556767f4",
   "metadata": {},
   "outputs": [],
   "source": [
    "NIT_open_df['Institute'].nunique()"
   ]
  },
  {
   "cell_type": "code",
   "execution_count": null,
   "id": "655ab06f-e399-483b-9a7f-21eed4dff4c1",
   "metadata": {},
   "outputs": [],
   "source": [
    "# lets check with cse as it more proritized (Computer Science and Engineering (4 Years))"
   ]
  },
  {
   "cell_type": "code",
   "execution_count": null,
   "id": "56682b79-f350-42c0-a9a7-70f79681122b",
   "metadata": {},
   "outputs": [],
   "source": [
    "NIT_cse_df = NIT_open_df[NIT_open_df['Course'] == 'Computer Science and Engineering (4 Years)']"
   ]
  },
  {
   "cell_type": "code",
   "execution_count": null,
   "id": "cf6ab240-0a69-4637-ac30-7424f6590396",
   "metadata": {},
   "outputs": [],
   "source": [
    "NIT_cse_df"
   ]
  },
  {
   "cell_type": "code",
   "execution_count": null,
   "id": "41dd5234-5bc6-40dc-81d2-46afbb7c3f6e",
   "metadata": {},
   "outputs": [],
   "source": [
    "#  any nit cse is preffered than our clg"
   ]
  },
  {
   "cell_type": "code",
   "execution_count": null,
   "id": "f14fec4f-3aba-441e-9611-fd790f103b59",
   "metadata": {},
   "outputs": [],
   "source": [
    "#\"If you're getting a seat in NIT for CSE, I can't understand why you wouldn't take it—it's a golden opportunity! Also, there's no mention of caste here,"
   ]
  },
  {
   "cell_type": "markdown",
   "id": "526a329a-980a-486b-ba5c-f9d7182a159f",
   "metadata": {},
   "source": [
    "## Since all NIT's are better than IIITDWD we will check for GFTI"
   ]
  },
  {
   "cell_type": "code",
   "execution_count": null,
   "id": "c974a2cb-6a7b-4cfa-b7f2-633bd54cecb1",
   "metadata": {},
   "outputs": [],
   "source": [
    "GFTI_df"
   ]
  },
  {
   "cell_type": "code",
   "execution_count": null,
   "id": "78505ee4-c8e6-43e4-a2b3-074aa85c0bb7",
   "metadata": {},
   "outputs": [],
   "source": [
    "GFTI_df = GFTI_df[GFTI_df['Seat Type'].isin(['OPEN', 'EWS', 'OBC-NCL', 'ST', 'SC'])]"
   ]
  },
  {
   "cell_type": "code",
   "execution_count": null,
   "id": "a81bea35-cb10-44f2-8ac9-9633f415dbce",
   "metadata": {},
   "outputs": [],
   "source": [
    "GFTI_open_df = GFTI_df[GFTI_df['Seat Type'] == 'OPEN']"
   ]
  },
  {
   "cell_type": "code",
   "execution_count": null,
   "id": "1568a003-ca32-445f-ba9e-e7a90019c717",
   "metadata": {},
   "outputs": [],
   "source": [
    "GFTI_open_df"
   ]
  },
  {
   "cell_type": "code",
   "execution_count": null,
   "id": "0583d446-9f29-47f3-8311-61dcaccaea41",
   "metadata": {},
   "outputs": [],
   "source": [
    "#\"Since these are GFTIs, let's disregard Home State, Other State, and All India quotas, and focus on the remaining criteria.\""
   ]
  },
  {
   "cell_type": "code",
   "execution_count": null,
   "id": "b8b5ef69-2c3b-4ca2-81b5-01f7ef9f2c69",
   "metadata": {},
   "outputs": [],
   "source": [
    "GFTI_greater_dwd = GFTI_open_df[GFTI_open_df[('Round-5', 'Closing Rank')] < 40000]"
   ]
  },
  {
   "cell_type": "code",
   "execution_count": null,
   "id": "ac7b5b98-a9d0-4397-8962-d3e46544f0b0",
   "metadata": {},
   "outputs": [],
   "source": [
    "GFTI_greater_dwd"
   ]
  },
  {
   "cell_type": "code",
   "execution_count": null,
   "id": "95446937-9e09-4622-b2a1-45224f3ae6dc",
   "metadata": {},
   "outputs": [],
   "source": [
    "#round_5 is coming greater than round_3 and 4 so i will remove those"
   ]
  },
  {
   "cell_type": "code",
   "execution_count": null,
   "id": "e1a2fa11-fa64-49b9-b59d-dbe42cfd31b9",
   "metadata": {},
   "outputs": [],
   "source": [
    "GFTI_df.columns"
   ]
  },
  {
   "cell_type": "code",
   "execution_count": null,
   "id": "0413733b-23eb-4609-ba3c-561597362d26",
   "metadata": {
    "scrolled": true
   },
   "outputs": [],
   "source": [
    "# Filter the DataFrame based on the specified conditions\n",
    "cleaned_GFTI_greater_dwd = GFTI_greater_dwd[\n",
    "    (GFTI_greater_dwd[('Round-5', 'Closing Rank')] > GFTI_greater_dwd[('Round-4', 'Closing Rank')]) &\n",
    "     (GFTI_greater_dwd[('Round-5', 'Closing Rank')] > GFTI_greater_dwd[('Round-3', 'Closing Rank')]) &\n",
    "     (GFTI_greater_dwd[('Round-4', 'Closing Rank')] > GFTI_greater_dwd[('Round-3', 'Closing Rank')])\n",
    "]\n",
    "\n",
    "\n",
    "cleaned_GFTI_greater_dwd\n"
   ]
  },
  {
   "cell_type": "code",
   "execution_count": null,
   "id": "1d93ec67-d620-4f5b-a8a4-4221781b8f1a",
   "metadata": {},
   "outputs": [],
   "source": [
    "cleaned_GFTI_greater_dwd['Institute'].unique()"
   ]
  },
  {
   "cell_type": "code",
   "execution_count": null,
   "id": "36493863",
   "metadata": {},
   "outputs": [],
   "source": [
    "#if you are getting a seat in any of these colleges, you should definitely take it. It's a golden opportunity!."
   ]
  },
  {
   "cell_type": "markdown",
   "id": "8dd9fdf9",
   "metadata": {},
   "source": [
    "\"This is entirely based on students' preferences, so we can't definitively say which option \n",
    "is the best or not—though in some cases, we might have an idea 😄.\""
   ]
  },
  {
   "cell_type": "markdown",
   "id": "cf59dc7b",
   "metadata": {},
   "source": [
    "\"IIIT Dharwad is an excellent college, and we have amazing seniors who are always ready to guide you if you need anything. So, please don’t feel discouraged by this—hard work in college is essential to achieving success.\""
   ]
  },
  {
   "cell_type": "markdown",
   "id": "ddf50e2f",
   "metadata": {},
   "source": []
  }
 ],
 "metadata": {
  "kernelspec": {
   "display_name": "Python 3 (ipykernel)",
   "language": "python",
   "name": "python3"
  },
  "language_info": {
   "codemirror_mode": {
    "name": "ipython",
    "version": 3
   },
   "file_extension": ".py",
   "mimetype": "text/x-python",
   "name": "python",
   "nbconvert_exporter": "python",
   "pygments_lexer": "ipython3",
   "version": "3.10.9"
  }
 },
 "nbformat": 4,
 "nbformat_minor": 5
}
